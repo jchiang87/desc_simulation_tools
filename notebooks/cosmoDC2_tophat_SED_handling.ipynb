{
 "cells": [
  {
   "cell_type": "code",
   "execution_count": null,
   "id": "eec9630a",
   "metadata": {},
   "outputs": [],
   "source": [
    "%matplotlib nbagg\n",
    "import os\n",
    "import yaml\n",
    "import matplotlib.pyplot as plt\n",
    "import numpy as np\n",
    "import pandas as pd\n",
    "import galsim"
   ]
  },
  {
   "cell_type": "code",
   "execution_count": null,
   "id": "46e35e33",
   "metadata": {},
   "outputs": [],
   "source": [
    "# Read in the wavelength bin boundaries\n",
    "with open('/home/jchiang/work/DESC/imSim/tests/data/sky_cat_multiproc_test.yaml') as fobj:\n",
    "    config = yaml.safe_load(fobj)\n",
    "bins = config['SED_models']['tophat']['bins']\n",
    "wl0 = [_[0] for _ in bins]\n",
    "wl0.append(bins[-1][0] + bins[-1][1])\n",
    "wl0 = 0.1*np.array(wl0)  # convert to nm"
   ]
  },
  {
   "cell_type": "code",
   "execution_count": null,
   "id": "7572d524",
   "metadata": {},
   "outputs": [],
   "source": [
    "# Read in an example set of tophat SED values.\n",
    "df = pd.read_parquet('/home/jchiang/work/DESC/imSim/tests/data/galaxy_9683_det94_det95_single_objs.parquet')\n",
    "Lnu0 = df.iloc[0].sed_val_bulge"
   ]
  },
  {
   "cell_type": "code",
   "execution_count": null,
   "id": "0a99492e",
   "metadata": {},
   "outputs": [],
   "source": [
    "# Set up arrays for plotting the tophats and make the plot.\n",
    "wl, Lnu = [], []\n",
    "for i in range(len(Lnu0)):\n",
    "    wl.append(wl0[i])\n",
    "    wl.append(wl0[i+1])\n",
    "    Lnu.append(Lnu0[i])\n",
    "    Lnu.append(Lnu0[i])\n",
    "plt.figure()\n",
    "plt.plot(wl, Lnu)\n",
    "plt.xlabel('wavelength (nm)')\n",
    "plt.ylabel('Lnu (4.4659e13 W/Hz)');"
   ]
  },
  {
   "cell_type": "code",
   "execution_count": null,
   "id": "9d0c2913",
   "metadata": {},
   "outputs": [],
   "source": [
    "# Convert y-axis to Flambda (with normalization later set a 500nm rest frame.)\n",
    "#\n",
    "# The current procedure resamples to finer bins then divides Lnu by wl**2 to convert to Flambda:\n",
    "wl_resamp = np.arange(min(wl), max(wl), 0.1)\n",
    "Lnu_resamp = np.interp(wl_resamp, wl, Lnu)\n",
    "Flambda = Lnu_resamp/wl_resamp**2  # Scale is arbitrary at this point.\n",
    "plt.figure()\n",
    "plt.plot(wl_resamp, Flambda)\n",
    "plt.xlabel('wavelength (nm)')\n",
    "plt.ylabel('Flambda (arb. units)');"
   ]
  },
  {
   "cell_type": "code",
   "execution_count": null,
   "id": "1fa12d36",
   "metadata": {},
   "outputs": [],
   "source": [
    "# cosmoDC2 really only considered the integrated luminosities in the 30 wavelength ranges.\n",
    "# Dividing by the bin width in frequency to provide Lnu seems to have been done for \"convenience\".\n",
    "#\n",
    "# A more useful (and equally \"valid\") representation would be to convert the 30 tophat values to\n",
    "# Llambda first.\n",
    "clight = 3e8/1e-9  # speed of light in nm\n",
    "nu0 = clight/wl0  # original bin edges in Hz\n",
    "Llambda0 = Lnu0*(nu0[:-1] - nu0[1:])/(wl0[1:] - wl0[:-1])   # W/nm\n",
    "\n",
    "Llambda = []\n",
    "for i in range(len(Llambda0)):\n",
    "    Llambda.extend((Llambda0[i], Llambda0[i]))\n",
    "\n",
    "plt.figure()\n",
    "plt.plot(wl, Llambda)\n",
    "plt.xlabel('wavelength (nm)')\n",
    "plt.ylabel('Llambda');"
   ]
  },
  {
   "cell_type": "code",
   "execution_count": null,
   "id": "862865ae",
   "metadata": {},
   "outputs": [],
   "source": [
    "# Should we extrapolate to shorter wavelengths?  Light from star-forming regions is absorbed shortward of the\n",
    "# Lyman limit at 91.2nm rest frame, so maybe we can just cut off the SED at 100nm?\n",
    "class Flambda:\n",
    "    def __init__(self, wl, Llambda):\n",
    "        self.wl = np.array(wl)\n",
    "        self.Llambda = np.array(Llambda)\n",
    "        # Below 100 nm, try to extrapolate using a power-law in Flambda vs wl, using the centers of\n",
    "        # the two lowest tophats to compute the parameters.\n",
    "        wl_mid = (self.wl[1:] + self.wl[:-1])/2.\n",
    "        self.a = (np.log(Llambda[2]) - np.log(Llambda[1]))/(np.log(wl_mid[1]) - np.log(wl_mid[0]))\n",
    "        self.b = Llambda[0]/wl_mid[0]**self.a\n",
    "    def __call__(self, wl_val):\n",
    "        if wl_val < self.wl[0]:\n",
    "            return self.b*wl_val**self.a\n",
    "        return np.interp(wl_val, self.wl, self.Llambda)"
   ]
  },
  {
   "cell_type": "code",
   "execution_count": null,
   "id": "0a3e354c",
   "metadata": {
    "scrolled": false
   },
   "outputs": [],
   "source": [
    "flambda = Flambda(wl, Llambda)\n",
    "\n",
    "lam = np.linspace(20, 2000, 1000)\n",
    "flam = [flambda(x) for x in lam]\n",
    "\n",
    "plt.figure()\n",
    "plt.plot(lam, flam)\n",
    "plt.xlabel('wavelength (nm)')\n",
    "plt.ylabel('Flambda (arb. units)');"
   ]
  },
  {
   "cell_type": "code",
   "execution_count": null,
   "id": "bde62756",
   "metadata": {},
   "outputs": [],
   "source": [
    "# Try representing each tophat as a Gaussian function:\n",
    "class GaussianSED:\n",
    "    def __init__(self, wl0, Llambda0):\n",
    "        self.mean = (wl0[1:] + wl0[:-1])/2.\n",
    "        self.sigma = (wl0[1:] - wl0[:-1])/2.  # set sigma so that bin width corresponds to 1-sigma.\n",
    "        self.norm = 0.68*Llambda0*(wl0[1:] - wl0[:-1])  # 1-sigma corresponds to 68% containment\n",
    "    @staticmethod\n",
    "    def _gaussian(x, mean, sigma):\n",
    "        return np.exp(-(x - mean)**2/2./sigma**2)/np.sqrt(2.*np.pi*sigma**2)\n",
    "    def __call__(self, wl):\n",
    "        return sum(self._gaussian(wl, mean, sigma)*norm\n",
    "                   for mean, sigma, norm in zip(self.mean, self.sigma, self.norm))"
   ]
  },
  {
   "cell_type": "code",
   "execution_count": null,
   "id": "38de7d05",
   "metadata": {},
   "outputs": [],
   "source": [
    "gauss_func = GaussianSED(wl0, Llambda0)\n",
    "plt.figure()\n",
    "plt.plot(lam, gauss_func(lam));"
   ]
  },
  {
   "cell_type": "code",
   "execution_count": null,
   "id": "31e4aed0",
   "metadata": {},
   "outputs": [],
   "source": [
    "# If we use a galsim.LookupTable with the interpolant='nearest' option, we don't need to resample\n",
    "# at higher resolution:\n",
    "def sed_lookup_table(wl0, Lnu0, prepend_zero_bin=True, ref_wl=500.,\n",
    "                     delta_wl=0.001):\n",
    "    wl = np.array(wl0)\n",
    "    # Convert tophat values from Lnu to Llambda.\n",
    "    nu = 1./wl\n",
    "    Llambda = np.array(Lnu0)*(nu[:-1] - nu[1:])/(wl[1:] - wl[:-1])\n",
    "\n",
    "    # Create step functions for use with galsim.LookupTable.\n",
    "    my_wl, my_Llambda = [], []\n",
    "    # Even though the galsim.LookupTable class doesn't need a non-zero delta_wl to avoid repeated\n",
    "    # abscissa values, the galsim.SED class does seem to need it.\n",
    "    for i in range(len(Llambda)):\n",
    "        my_wl.extend((wl[i], wl[i+1] - delta_wl))\n",
    "        my_Llambda.extend((Llambda[i], Llambda[i]))\n",
    "    if prepend_zero_bin:\n",
    "        my_wl = [0, my_wl[0] - delta_wl] + my_wl\n",
    "        my_Llambda = [0, 0] + my_Llambda\n",
    "    lut = galsim.LookupTable(my_wl, my_Llambda, interpolant='nearest')\n",
    "    # Normalize to unity at ref_wl.\n",
    "    Lref = lut(ref_wl)\n",
    "    return galsim.LookupTable(my_wl, np.array(my_Llambda)/Lref,\n",
    "                              interpolant='nearest')"
   ]
  },
  {
   "cell_type": "code",
   "execution_count": null,
   "id": "25fb6af5",
   "metadata": {},
   "outputs": [],
   "source": [
    "sed_lut = sed_lookup_table(wl0, Lnu0)\n",
    "\n",
    "plt.figure()\n",
    "wls = np.arange(0, max(wl0), 1)\n",
    "flam = [sed_lut(_) for _ in wls]\n",
    "plt.plot(wls, flam)\n",
    "plt.xlabel('wavelength (nm)')\n",
    "plt.ylabel('Flambda (arb. units)');"
   ]
  },
  {
   "cell_type": "code",
   "execution_count": null,
   "id": "f8a7c122",
   "metadata": {},
   "outputs": [],
   "source": [
    "sed0 = galsim.SED(sed_lut, wave_type='nm', flux_type='flambda')\n",
    "zvals = np.linspace(0.1, 5.0, 100)\n",
    "\n",
    "plt.figure()\n",
    "for band in 'ugrizy':\n",
    "    throughput_file = os.path.join(os.environ['RUBIN_SIM_DATA_DIR'],\n",
    "                                   'throughputs', 'baseline', f'total_{band}.dat')\n",
    "    bp = galsim.Bandpass(throughput_file, wave_type='nm').thin()\n",
    "    fluxes = []\n",
    "    for z in zvals:\n",
    "        sed = sed0.atRedshift(z)\n",
    "        fluxes.append(sed.calculateFlux(bp))\n",
    "    plt.plot(zvals, fluxes, label=band)\n",
    "plt.legend(fontsize='x-small')\n",
    "plt.xlabel('redshift')\n",
    "plt.ylabel('in-band flux');"
   ]
  }
 ],
 "metadata": {
  "kernelspec": {
   "display_name": "Python 3 (ipykernel)",
   "language": "python",
   "name": "python3"
  },
  "language_info": {
   "codemirror_mode": {
    "name": "ipython",
    "version": 3
   },
   "file_extension": ".py",
   "mimetype": "text/x-python",
   "name": "python",
   "nbconvert_exporter": "python",
   "pygments_lexer": "ipython3",
   "version": "3.10.5"
  }
 },
 "nbformat": 4,
 "nbformat_minor": 5
}
